{
 "cells": [
  {
   "cell_type": "markdown",
   "metadata": {},
   "source": [
    "## Présentation sur les listes  :)\n",
    "### Exemples simples"
   ]
  },
  {
   "cell_type": "code",
   "execution_count": 1,
   "metadata": {},
   "outputs": [],
   "source": [
    "l = [4, 5, 6, \"hello\", \"bonjour\", 7, 8, 9, 10, \"fin\"]"
   ]
  },
  {
   "cell_type": "code",
   "execution_count": 2,
   "metadata": {},
   "outputs": [
    {
     "name": "stdout",
     "output_type": "stream",
     "text": [
      "6\n",
      "fin\n",
      "['hello', 'bonjour']\n",
      "10\n"
     ]
    }
   ],
   "source": [
    "print(l[2])\n",
    "print(l[-1])\n",
    "print(l[3:5])\n",
    "print(len(l))"
   ]
  },
  {
   "cell_type": "code",
   "execution_count": 3,
   "metadata": {},
   "outputs": [
    {
     "name": "stdout",
     "output_type": "stream",
     "text": [
      "[4, 5, 6, 'hello', 'bonjour', 7, 8, 9, 10, 'fin', 11]\n"
     ]
    }
   ],
   "source": [
    "l.append(11)\n",
    "print(l)"
   ]
  },
  {
   "cell_type": "code",
   "execution_count": 4,
   "metadata": {},
   "outputs": [
    {
     "name": "stdout",
     "output_type": "stream",
     "text": [
      "[5, 6, 'hello', 'bonjour', 7, 8, 9, 10, 11, 'fin']\n"
     ]
    }
   ],
   "source": [
    "l.remove(11)\n",
    "l.pop(0)\n",
    "l.insert(8,11)\n",
    "print(l)"
   ]
  },
  {
   "cell_type": "code",
   "execution_count": 5,
   "metadata": {},
   "outputs": [
    {
     "data": {
      "text/plain": [
       "[5, 6, 'hello', 'bonjour', 7, 8, 9, 10, 11, 'bye']"
      ]
     },
     "execution_count": 5,
     "metadata": {},
     "output_type": "execute_result"
    }
   ],
   "source": [
    "l[9] = \"bye\"\n",
    "l"
   ]
  },
  {
   "cell_type": "code",
   "execution_count": 6,
   "metadata": {},
   "outputs": [
    {
     "data": {
      "text/plain": [
       "True"
      ]
     },
     "execution_count": 6,
     "metadata": {},
     "output_type": "execute_result"
    }
   ],
   "source": [
    "'hello' in l "
   ]
  },
  {
   "cell_type": "code",
   "execution_count": 7,
   "metadata": {},
   "outputs": [
    {
     "data": {
      "text/plain": [
       "False"
      ]
     },
     "execution_count": 7,
     "metadata": {},
     "output_type": "execute_result"
    }
   ],
   "source": [
    "'fin' in l"
   ]
  },
  {
   "cell_type": "code",
   "execution_count": 8,
   "metadata": {},
   "outputs": [
    {
     "data": {
      "text/plain": [
       "2"
      ]
     },
     "execution_count": 8,
     "metadata": {},
     "output_type": "execute_result"
    }
   ],
   "source": [
    "l.index(\"hello\")"
   ]
  },
  {
   "cell_type": "code",
   "execution_count": 9,
   "metadata": {},
   "outputs": [
    {
     "name": "stdout",
     "output_type": "stream",
     "text": [
      "[5, 6, 'hello', 'bonjour', 7, 8, 9, 10, 11, 'bye']\n"
     ]
    }
   ],
   "source": [
    "liste = l.copy()\n",
    "print(liste)"
   ]
  },
  {
   "cell_type": "code",
   "execution_count": 10,
   "metadata": {},
   "outputs": [
    {
     "name": "stdout",
     "output_type": "stream",
     "text": [
      "[1, 2, 3, 4, 5, 6, 'hello', 'bonjour', 7, 8, 9, 10, 11, 'bye']\n"
     ]
    }
   ],
   "source": [
    "liste.clear()\n",
    "liste = [1, 2, 3, 4]\n",
    "l_2 = liste + l\n",
    "print(l_2)"
   ]
  },
  {
   "cell_type": "code",
   "execution_count": 11,
   "metadata": {},
   "outputs": [
    {
     "name": "stdout",
     "output_type": "stream",
     "text": [
      "[1, 2, 3, 4, 5, 6, 'hello', 'bonjour', 7, 8, 9, 10, 11, 12, 13, 14, 15, 'bye']\n"
     ]
    }
   ],
   "source": [
    "liste2 = [12, 13, 14, 15]\n",
    "for x in liste2:\n",
    "  l_2.insert(-1, x)\n",
    "\n",
    "print(l_2)"
   ]
  },
  {
   "cell_type": "code",
   "execution_count": 12,
   "metadata": {},
   "outputs": [
    {
     "name": "stdout",
     "output_type": "stream",
     "text": [
      "[1, 2, 3, 4, 5, 6, 7, 8, 9, 10, 11, 12, 13, 14, 15, 'bonjour', 'bye', 'hello']\n"
     ]
    }
   ],
   "source": [
    "l_2.sort(key=lambda x: (isinstance(x, str), x))\n",
    "print(l_2)"
   ]
  },
  {
   "cell_type": "code",
   "execution_count": 13,
   "metadata": {},
   "outputs": [
    {
     "data": {
      "text/plain": [
       "[1, 2, 3, 4, 5, 6, 7, 8, 9, 10, 11, 12, 13, 14, 15]"
      ]
     },
     "execution_count": 13,
     "metadata": {},
     "output_type": "execute_result"
    }
   ],
   "source": [
    "mots = [\"bonjour\", \"bye\", \"hello\"]\n",
    "for x in mots:\n",
    "    l_2.remove(x)\n",
    "l_2"
   ]
  },
  {
   "cell_type": "markdown",
   "metadata": {},
   "source": [
    "### Exemple avec une liste de listes"
   ]
  },
  {
   "cell_type": "code",
   "execution_count": 14,
   "metadata": {},
   "outputs": [
    {
     "name": "stdout",
     "output_type": "stream",
     "text": [
      "[['Alice', 'Roy', 25, 90], ['Emma', 'Gagnon', 24, 85], ['Liam', 'Cote', 23, 85], ['Olivia', 'Tremblay', 24, 72]]\n"
     ]
    }
   ],
   "source": [
    "people_list = [['Olivia','Tremblay',24,72],['Emma','Gagnon',24,85],['Alice','Roy',25,90],['Liam','Cote',23,85]]\n",
    "#list: [Prénom, Nom, âge, note à un test]\n",
    "\n",
    "people_list.sort()\n",
    "print (people_list)"
   ]
  },
  {
   "cell_type": "code",
   "execution_count": 15,
   "metadata": {},
   "outputs": [
    {
     "name": "stdout",
     "output_type": "stream",
     "text": [
      "[['Alice', 'Roy', 25, 90], ['Emma', 'Gagnon', 24, 85], ['Liam', 'Cote', 23, 85], ['Olivia', 'Tremblay', 24, 72]]\n"
     ]
    }
   ],
   "source": [
    "people_list.sort(reverse=True,key = lambda i: i[3])\n",
    "print (people_list)"
   ]
  },
  {
   "cell_type": "code",
   "execution_count": 16,
   "metadata": {},
   "outputs": [
    {
     "name": "stdout",
     "output_type": "stream",
     "text": [
      "[['Alice', 'Roy', 25, 90], ['Liam', 'Cote', 23, 85], ['Emma', 'Gagnon', 24, 85], ['Olivia', 'Tremblay', 24, 72]]\n"
     ]
    }
   ],
   "source": [
    "sorted_list = sorted(people_list, key=lambda i: (100-i[3], i[2]))\n",
    "print(sorted_list)"
   ]
  },
  {
   "cell_type": "markdown",
   "metadata": {},
   "source": [
    "### Création de liste avec une fonction"
   ]
  },
  {
   "cell_type": "code",
   "execution_count": 17,
   "metadata": {},
   "outputs": [
    {
     "data": {
      "text/plain": [
       "[16, 32, 64, 128, 256, 512]"
      ]
     },
     "execution_count": 17,
     "metadata": {},
     "output_type": "execute_result"
    }
   ],
   "source": [
    "fun_list = [2 ** x for x in range(10) if x>3]\n",
    "fun_list"
   ]
  },
  {
   "cell_type": "code",
   "execution_count": 18,
   "metadata": {},
   "outputs": [
    {
     "data": {
      "text/plain": [
       "['Gateau au chocolat',\n",
       " 'Gateau à la vanille',\n",
       " 'Gateau aux fraises',\n",
       " 'Crème glacée au chocolat',\n",
       " 'Crème glacée à la vanille',\n",
       " 'Crème glacée aux fraises']"
      ]
     },
     "execution_count": 18,
     "metadata": {},
     "output_type": "execute_result"
    }
   ],
   "source": [
    "desserts = [x+y for x in ['Gateau ','Crème glacée '] for y in ['au chocolat','à la vanille', 'aux fraises']]\n",
    "desserts"
   ]
  },
  {
   "cell_type": "code",
   "execution_count": 29,
   "metadata": {},
   "outputs": [
    {
     "data": {
      "text/plain": [
       "[([1, 2, 3], 1),\n",
       " ([2, 3, 4], 2),\n",
       " ([3, 4, 5], 3),\n",
       " ([4, 5, 6], 4),\n",
       " ([5, 6, 7], 5),\n",
       " ([6, 7, 8], 6),\n",
       " ([7, 8, 9], 7)]"
      ]
     },
     "execution_count": 29,
     "metadata": {},
     "output_type": "execute_result"
    }
   ],
   "source": [
    "looplist = []\n",
    "sublist = []\n",
    "for i in range(0,10):\n",
    "    sublist.append(i)\n",
    "    if len(sublist)>3:\n",
    "        sublist.remove(sublist[0])\n",
    "        looplist.append((list(sublist), sublist[0]))\n",
    "looplist"
   ]
  }
 ],
 "metadata": {
  "kernelspec": {
   "display_name": "Python 3",
   "language": "python",
   "name": "python3"
  },
  "language_info": {
   "codemirror_mode": {
    "name": "ipython",
    "version": 3
   },
   "file_extension": ".py",
   "mimetype": "text/x-python",
   "name": "python",
   "nbconvert_exporter": "python",
   "pygments_lexer": "ipython3",
   "version": "3.7.6"
  },
  "toc": {
   "base_numbering": 1,
   "nav_menu": {},
   "number_sections": true,
   "sideBar": true,
   "skip_h1_title": false,
   "title_cell": "Table of Contents",
   "title_sidebar": "Contents",
   "toc_cell": false,
   "toc_position": {},
   "toc_section_display": true,
   "toc_window_display": false
  }
 },
 "nbformat": 4,
 "nbformat_minor": 4
}
